{
 "cells": [
  {
   "cell_type": "markdown",
   "metadata": {},
   "source": [
    "# numpy complete"
   ]
  },
  {
   "cell_type": "code",
   "execution_count": null,
   "metadata": {},
   "outputs": [],
   "source": []
  },
  {
   "cell_type": "markdown",
   "metadata": {},
   "source": [
    " numpy is the foundamental packagee for scientific computing in python.\n",
    "numpy is a python library that provides a multidimensions array object,various derived objects."
   ]
  },
  {
   "cell_type": "markdown",
   "metadata": {},
   "source": [
    "an array is grid of values and it contains information about the raw data how to locate an element and how to interpet an element"
   ]
  },
  {
   "cell_type": "markdown",
   "metadata": {},
   "source": [
    "# numpy vs python list"
   ]
  },
  {
   "cell_type": "markdown",
   "metadata": {},
   "source": [
    "**advantage of using numpy array over python lists:**"
   ]
  },
  {
   "cell_type": "markdown",
   "metadata": {},
   "source": [
    " 1. consumes less memory .\n",
    " 2. fast as compare t othe python lists .\n",
    " 3. conenient to use."
   ]
  },
  {
   "cell_type": "code",
   "execution_count": 1,
   "metadata": {},
   "outputs": [],
   "source": [
    "import numpy as np"
   ]
  },
  {
   "cell_type": "code",
   "execution_count": 4,
   "metadata": {},
   "outputs": [
    {
     "name": "stdout",
     "output_type": "stream",
     "text": [
      "[1 2 3 4]\n",
      "<class 'numpy.ndarray'>\n"
     ]
    }
   ],
   "source": [
    "x=np.array([1,2,3,4])\n",
    "print(x)\n",
    "print(type(x))"
   ]
  },
  {
   "cell_type": "code",
   "execution_count": 5,
   "metadata": {},
   "outputs": [
    {
     "name": "stdout",
     "output_type": "stream",
     "text": [
      "[1, 2, 3, 4]\n",
      "<class 'list'>\n"
     ]
    }
   ],
   "source": [
    "y=[1,2,3,4]\n",
    "print(y)\n",
    "print(type(y))"
   ]
  },
  {
   "cell_type": "code",
   "execution_count": 6,
   "metadata": {},
   "outputs": [
    {
     "name": "stdout",
     "output_type": "stream",
     "text": [
      "enter the number:4\n",
      "enter the number:12\n",
      "enter the number:12\n",
      "enter the number:12\n",
      "['4' '12' '12' '12']\n"
     ]
    }
   ],
   "source": [
    "l=[]\n",
    "for i in range(1,5):\n",
    "    n=input(\"enter the number:\")\n",
    "    l.append(n)\n",
    "print(np.array(l))"
   ]
  },
  {
   "cell_type": "code",
   "execution_count": 7,
   "metadata": {},
   "outputs": [
    {
     "name": "stdout",
     "output_type": "stream",
     "text": [
      "enter the number:3\n",
      "enter the number:12\n",
      "enter the number:13\n",
      "enter the number:14\n",
      "[ 3 12 13 14]\n"
     ]
    }
   ],
   "source": [
    "l=[]\n",
    "for i in range(1,5):\n",
    "    n= int(input(\"enter the number:\"))\n",
    "    l.append(n)\n",
    "print(np.array(l))"
   ]
  },
  {
   "cell_type": "code",
   "execution_count": 9,
   "metadata": {},
   "outputs": [
    {
     "name": "stdout",
     "output_type": "stream",
     "text": [
      "[1 2 3 4]\n",
      "1\n"
     ]
    }
   ],
   "source": [
    "y=np.array([1,2,3,4])\n",
    "print(y)\n",
    "print(y.ndim)"
   ]
  },
  {
   "cell_type": "markdown",
   "metadata": {},
   "source": [
    "# special numpy array"
   ]
  },
  {
   "cell_type": "markdown",
   "metadata": {},
   "source": [
    "1. array filled with 0's\n",
    "2. array filled with 1's\n",
    "3. create an empty array\n",
    "4. an array with a range of element\n",
    "5. array diagonal ellement filled with 1's\n",
    "6. create an array with values that are spaced linearly in a specified interval"
   ]
  },
  {
   "cell_type": "markdown",
   "metadata": {},
   "source": [
    "# zeros"
   ]
  },
  {
   "cell_type": "code",
   "execution_count": 10,
   "metadata": {},
   "outputs": [
    {
     "name": "stdout",
     "output_type": "stream",
     "text": [
      "[0. 0. 0. 0.]\n"
     ]
    }
   ],
   "source": [
    "n=np.zeros(4)\n",
    "print(n)"
   ]
  },
  {
   "cell_type": "markdown",
   "metadata": {},
   "source": [
    "# ones"
   ]
  },
  {
   "cell_type": "code",
   "execution_count": 11,
   "metadata": {},
   "outputs": [
    {
     "name": "stdout",
     "output_type": "stream",
     "text": [
      "[1. 1. 1. 1. 1.]\n"
     ]
    }
   ],
   "source": [
    "n=np.ones(5)\n",
    "print(n)"
   ]
  },
  {
   "cell_type": "code",
   "execution_count": 12,
   "metadata": {},
   "outputs": [
    {
     "name": "stdout",
     "output_type": "stream",
     "text": [
      "[0. 0. 0. 0.]\n"
     ]
    }
   ],
   "source": [
    "n=np.empty(4)\n",
    "print(n)"
   ]
  },
  {
   "cell_type": "markdown",
   "metadata": {},
   "source": [
    "# range"
   ]
  },
  {
   "cell_type": "code",
   "execution_count": 13,
   "metadata": {},
   "outputs": [
    {
     "name": "stdout",
     "output_type": "stream",
     "text": [
      "[0 1 2 3]\n"
     ]
    }
   ],
   "source": [
    "n=np.arange(4)\n",
    "print(n)"
   ]
  },
  {
   "cell_type": "markdown",
   "metadata": {},
   "source": [
    "# diagonal"
   ]
  },
  {
   "cell_type": "code",
   "execution_count": 14,
   "metadata": {},
   "outputs": [
    {
     "name": "stdout",
     "output_type": "stream",
     "text": [
      "[[1. 0. 0. 0.]\n",
      " [0. 1. 0. 0.]\n",
      " [0. 0. 1. 0.]\n",
      " [0. 0. 0. 1.]]\n"
     ]
    }
   ],
   "source": [
    "n=np.eye(4)\n",
    "print(n)"
   ]
  },
  {
   "cell_type": "code",
   "execution_count": 15,
   "metadata": {},
   "outputs": [
    {
     "name": "stdout",
     "output_type": "stream",
     "text": [
      "[[1. 0. 0. 0. 0.]\n",
      " [0. 1. 0. 0. 0.]\n",
      " [0. 0. 1. 0. 0.]]\n"
     ]
    }
   ],
   "source": [
    "n=np.eye(3,5)\n",
    "print(n)"
   ]
  },
  {
   "cell_type": "markdown",
   "metadata": {},
   "source": [
    "# create numpy array with random numbers"
   ]
  },
  {
   "cell_type": "markdown",
   "metadata": {},
   "source": [
    "**rand():** the function is used to generated a rondom value between 0 to 1"
   ]
  },
  {
   "cell_type": "code",
   "execution_count": 17,
   "metadata": {},
   "outputs": [
    {
     "name": "stdout",
     "output_type": "stream",
     "text": [
      "0.3810294512729675\n"
     ]
    }
   ],
   "source": [
    "n=np.random.rand()\n",
    "print(n)"
   ]
  },
  {
   "cell_type": "markdown",
   "metadata": {},
   "source": [
    "**randn():** the function is used togenrate a rondom value close to zero   this  may reyrun +ve  or -ve numbers as well."
   ]
  },
  {
   "cell_type": "code",
   "execution_count": null,
   "metadata": {},
   "outputs": [],
   "source": [
    "**ranf():** the function for doing random sampling in numpy . it   "
   ]
  },
  {
   "cell_type": "markdown",
   "metadata": {},
   "source": [
    "# NUMPY\n",
    "\n",
    "numpy is python library was created in 2005 by travis oliphant numpy is used for working will arrays.\n",
    "numpy aims to provided an array thai is up to 50x faster than traditional python list.\n",
    "\n",
    "\n",
    "import numpy \n",
    "arr= numpy.array([1,2,3,4,5])\n",
    "print(arr)\n",
    "\n",
    "import numpy as np \n",
    "arr= np.array([1,2,3,4,5])\n",
    "print(arr)\n",
    "\n",
    "print(np.__version__)\n",
    "\n",
    "print(type(arr))\n",
    "\n",
    "# zero D array\n",
    "\n",
    "import numpy as np\n",
    "arr=np.array(40)\n",
    "print(arr)\n",
    "print(ndim(arr))\n",
    "\n",
    "# 1 D array\n",
    "\n",
    "import numpy as np\n",
    "arr=np.array([40,34,6,4])\n",
    "print(arr)\n",
    "print(arr.ndim)\n",
    "print(arr[0])\n",
    "\n",
    "# 2D array\n",
    "\n",
    "import numpy as np\n",
    "arr=np.array([[40,34,6,4] ,[54,6,3,2]])\n",
    "print(arr)\n",
    "print(arr.ndim)\n",
    "\n",
    "# 3D array\n",
    "\n",
    "a=np.array(43)\n",
    "b=np.array(45)\n",
    "c=np.array(67)\n",
    "d=np.array([[[1,2,3],[4,5,6],[7,8,9],[4,6,7]]])\n",
    "print(a)\n",
    "print(b)\n",
    "print(c)\n",
    "print(d)\n",
    "print(a.ndim)\n",
    "print(b.ndim)\n",
    "print(c.ndim)\n",
    "print(d.ndim)\n",
    "print(d.ndim)\n",
    "\n",
    "# Indexing array \n",
    "\n",
    "arr=[2,4,3,2]\n",
    "print(arr[0])\n",
    "\n",
    "# Access 2D Arrays\n",
    "\n",
    "import numpy as np\n",
    "arr=np.array([[1,2,3,4,5],[3,4,5,6,7]])\n",
    "print(arr)\n",
    "print(arr[0,1])\n",
    "print(arr[1,4])\n",
    "print(arr[1,1])\n",
    "\n",
    "arr=np.array([[[1,2,3],[4,5,54],[7,8,9],[3,4,5]]])\n",
    "print(arr)\n",
    "print(arr[0,1,2])\n",
    "\n",
    "a = np.zeros((2, 3, 4))\n",
    "print(a)\n",
    "array([[[ 0.,  0.,  0.,  0.],\n",
    "        [ 0.,  0.,  0.,  0.],\n",
    "        [ 0.,  0.,  0.,  0.]],\n",
    "\n",
    "       [[ 0.,  0.,  0.,  0.],\n",
    "        [ 0.,  0.,  0.,  0.],\n",
    "        [ 0.,  0.,  0.,  0.]]])\n",
    "\n",
    "import numpy as np\n",
    "\n",
    "arr = np.array([[1, 2, 3], [4, 5, 6]])\n",
    "\n",
    "print(arr[1,-1])\n",
    "\n",
    "# return item fro m3 colum all rows\n",
    "\n",
    "import numpy as np\n",
    "arr1=np.array([[5,6,0],[2,5,7]])\n",
    "arr2=np.array([[3,87,54],[76,43,23]])\n",
    "print(arr1 +arr2)\n",
    "\n",
    "arr1=np.array([[11,22,33],[44,55,66],[77,88,99]])\n",
    "print(arr1)\n",
    "print(\"printing the array... \")\n",
    "print(arr1[:,0])\n",
    "print(arr1[:,1])\n",
    "print(arr1[:,2])\n",
    "\n",
    "# return any number odd rows and even colums\n",
    "\n",
    "\n",
    "\n",
    "import numpy as np\n",
    "\n",
    "arr1 = np.array([[3 ,6, 9, 12], [15 ,18, 21, 24], \n",
    "[27 ,30, 33, 36], [39 ,42, 45, 48], [51 ,54, 57, 60]]) \n",
    "print(\"Printing Input Array\")\n",
    "print(arr1)\n",
    "\n",
    "print(\"\\n Printing array of odd rows and even column\")\n",
    "arr2=arr1[0::2, 1::2]\n",
    "print(arr2)\n",
    "\n",
    "\n",
    "import numpy as np\n",
    "a=np.array([1,2,3,4,9,6])\n",
    "b=np.array([1,6,7,8,9,9])\n",
    "print(np.where(a==b))\n",
    "\n",
    "import numpy as np\n",
    "arr=np.array([1,2,3,4,5,56,3,2])\n",
    "print(arr[1:3])\n",
    "print(arr[3:])\n",
    "print(arr[:4])\n",
    "print(arr[-3:-1])\n",
    "print(arr[1:6:2])\n",
    "\n",
    "import numpy as np\n",
    "arr=np.array([[1,2,3,4,5],[6,7,8,9,10]])\n",
    "print(arr)\n",
    "print(arr[0,1:2])\n",
    "print(arr[:,1])\n",
    "print(arr[0:2,2])\n",
    "print(arr[0:2,1:4])\n",
    "\n",
    "\n",
    "\n",
    "import numpy as np\n",
    "arr=np.array([1,2,3,4],dtype='S')\n",
    "print(arr)\n",
    "print(arr.dtype)\n",
    "\n",
    "import numpy as np\n",
    "arr=np.array([1,2,3,4],dtype='i4')\n",
    "print(arr)\n",
    "print(arr.dtype)\n",
    "\n",
    "import numpy as np\n",
    "arr=np.array([1.1,2.2,3.3,4.1])\n",
    "new=arr.astype('i')\n",
    "print(new)\n",
    "print(new.dtype)\n",
    "\n",
    "# copy and view\n",
    "\n",
    "# copy\n",
    "\n",
    "import numpy as np\n",
    "arr=np.array([23,4,52,32,3])\n",
    "x=arr.copy()\n",
    "arr[0]=31\n",
    "print(arr)\n",
    "print(x)\n",
    "\n",
    "# view\n",
    "\n",
    "import numpy as np\n",
    "arr=np.array([23,4,52,32,3])\n",
    "x=arr.view()\n",
    "arr[0]=31\n",
    "print(arr)\n",
    "print(x)\n",
    "\n",
    "# shape\n",
    "\n",
    "import numpy as np\n",
    "arr=np.array([[1,2,3,4,5],[6,7,8,9,10]])\n",
    "print(arr.shape)\n",
    "#2 dimension and 5 element\n",
    "\n",
    "# reshape\n",
    "\n",
    "# change  1D with 2D array\n",
    "\n",
    "import numpy as np\n",
    "arr= np.array([1,2,4,32434,4,2,6,8,9,6,6,4])\n",
    "new=arr.reshape(4,3)\n",
    "print(new)\n",
    "print(new.ndim)\n",
    "print(arr.ndim)\n",
    "\n",
    "\n",
    "# flattering\n",
    "\n",
    "import numpy as np\n",
    "arr=np.array([[1,2,3,4],[5,6,7,8]])\n",
    "new= arr.reshape(-1)\n",
    "print(new)\n",
    "\n",
    "# numpy iteration\n",
    "\n",
    "import numpy as np\n",
    "arr=np.array([[1,2,3,4],[5,6,7,8]])\n",
    "for x in arr:\n",
    "    print(x)\n",
    "\n",
    "import numpy as np\n",
    "arr=np.array([[[1,2,3,4],[5,6,7,8]],[[21,32,44,56],[56,3,76,9]]])\n",
    "for x in np.nditer(arr):\n",
    "    print(x)\n",
    "\n",
    "# numpy joining array\n",
    "\n",
    "import numpy as np\n",
    "arr1=np.array([12,13,14])\n",
    "arr2=np.array([25,45,6,7])\n",
    "arr=np.concatenate((arr1,arr2))\n",
    "arr3=np.concatenate((arr1,arr2),axis=0)\n",
    "print(arr3)\n",
    "\n",
    "import numpy as np\n",
    "arr1=np.array([[12,13,14],[54,76,89]])\n",
    "arr2=np.array([[25,45,6],[45,55,33]])\n",
    "arr3=np.concatenate((arr1,arr2),axis=1)#columns\n",
    "arr4=np.concatenate((arr1,arr2),axis=0)#row\n",
    "print(arr3)\n",
    "print(\"printing ....\")\n",
    "print(arr4)\n",
    "\n",
    "# joining array using stack functions\n",
    "\n",
    "stacking (ROW)\n",
    "\n",
    "import numpy as np \n",
    "arr1=np.array([1,2,3])\n",
    "arr2=np.array([4,5,6])\n",
    "arr=np.stack((arr1,arr2),axis=1)\n",
    "print(arr)\n",
    "\n",
    "# hstack()\n",
    "\n",
    "numpy provides a helper function hstack() to stack along rows\n",
    "\n",
    "import numpy as np \n",
    "arr1=np.array([1,2,3])\n",
    "arr2=np.array([4,5,6])\n",
    "arr=np.hstack((arr1,arr2))\n",
    "print(arr)\n",
    "\n",
    "import numpy as np \n",
    "arr1=np.array([1,2,3])\n",
    "arr2=np.array([4,5,6])\n",
    "arr=np.vstack((arr1,arr2))\n",
    "print(arr)\n",
    "\n",
    "# spliting numpy array\n",
    "\n",
    "spiliting is reverse operations of joining .\n",
    "we use array_ spilit() for spliting array.\n",
    "\n",
    "import numpy as np\n",
    "arr=np.array([1,2,3,4,5,6])\n",
    "newarr=np.array_split(arr,3)\n",
    "print(newarr)\n",
    "\n",
    "import numpy as np\n",
    "arr = np.array([[1, 2], [3, 4], [5, 6], [7, 8], [9, 10], [11, 12]])\n",
    "newarr = np.array_split(arr, 3)\n",
    "print(newarr)\n",
    "\n",
    "import numpy as np\n",
    "arr = np.array([1, 2, 3, 4, 5, 6])\n",
    "newarr = np.array_split(arr, 3)\n",
    "print(newarr[0])\n",
    "print(newarr[1])\n",
    "print(newarr[2])\n",
    "\n",
    "# array searching\n",
    "\n",
    "you can search an array for a certain value and return the index that gets a match.\n",
    "\n",
    "import numpy as np\n",
    "arr=np.array([1,2,3,4,4,4,4])\n",
    "x=np.where(arr==4)\n",
    "print(x)\n",
    "\n",
    "arr=np.array([1,2,3,4,5,67,8,9])\n",
    "x=np.where(arr%2==0)\n",
    "print(x)\n",
    "print(arr[x])\n",
    "\n",
    "arr=np.array([1,2,3,4,5,67,8,9])\n",
    "x=np.where(arr%2==0)\n",
    "print(x)\n",
    "print(\"printing index....\")\n",
    "\n",
    "\n",
    "# searchsorted\n",
    "\n",
    "there is a method searchsorted() which performs a binary search\n",
    "in the array and return the index where the specifed value would \n",
    "be inserted to maintain the search order.\n",
    "\n",
    "arr=np.array([6,7,8,9])\n",
    "x=np.searchsorted(arr,7)\n",
    "print(x)\n",
    "\n",
    "# sorting array\n",
    "\n",
    "sorting means putting elements in an ordered sequencs .sort() that will sort a specified array.\n",
    "this method return a copy of the array leaving the original array unchanged.\n",
    "\n",
    "arr=np.array([3,2,0,1])\n",
    "print(np.sort(arr))\n",
    "\n",
    "arr=np.array([\"apple\",\"banana\",\"gauvaa\",\"cherry\"])\n",
    "print(np.sort(arr))\n",
    "\n",
    "arr=np.array([[2,4,3,6],[5,3,2,0]])\n",
    "print(np.sort(arr))\n",
    "\n",
    "# filtering array\n",
    "\n",
    "arr=np.array([32,65,87,45])\n",
    "x=[True,False,True,False]\n",
    "newarr=arr[x]\n",
    "print(newarr)\n",
    "\n",
    "arr=np.array([41,42,43,44])\n",
    "filter_arr=arr>42\n",
    "newarr=arr[filter_arr]\n",
    "print(filter_arr)\n",
    "print(newarr)\n",
    "\n"
   ]
  },
  {
   "cell_type": "code",
   "execution_count": null,
   "metadata": {},
   "outputs": [],
   "source": []
  }
 ],
 "metadata": {
  "kernelspec": {
   "display_name": "Python 3",
   "language": "python",
   "name": "python3"
  },
  "language_info": {
   "codemirror_mode": {
    "name": "ipython",
    "version": 3
   },
   "file_extension": ".py",
   "mimetype": "text/x-python",
   "name": "python",
   "nbconvert_exporter": "python",
   "pygments_lexer": "ipython3",
   "version": "3.8.5"
  }
 },
 "nbformat": 4,
 "nbformat_minor": 4
}
